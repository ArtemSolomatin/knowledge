{
 "cells": [
  {
   "cell_type": "markdown",
   "metadata": {},
   "source": [
    "## Import"
   ]
  },
  {
   "cell_type": "code",
   "execution_count": 1,
   "metadata": {
    "scrolled": true
   },
   "outputs": [
    {
     "name": "stderr",
     "output_type": "stream",
     "text": [
      "[nltk_data] Downloading package punkt to /home/whale/nltk_data...\n",
      "[nltk_data]   Package punkt is already up-to-date!\n",
      "[nltk_data] Downloading package stopwords to /home/whale/nltk_data...\n",
      "[nltk_data]   Package stopwords is already up-to-date!\n",
      "[nltk_data] Downloading package perluniprops to\n",
      "[nltk_data]     /home/whale/nltk_data...\n",
      "[nltk_data]   Package perluniprops is already up-to-date!\n",
      "[nltk_data] Downloading package nonbreaking_prefixes to\n",
      "[nltk_data]     /home/whale/nltk_data...\n",
      "[nltk_data]   Package nonbreaking_prefixes is already up-to-date!\n"
     ]
    }
   ],
   "source": [
    "import numpy as np\n",
    "import pandas as pd\n",
    "import pickle\n",
    "import re\n",
    "\n",
    "from sklearn.linear_model import SGDClassifier\n",
    "\n",
    "from deeppavlov.models.vectorizers.tfidf_vectorizer import TfIdfVectorizer\n",
    "from deeppavlov.models.tokenizers.ru_tokenizer import RussianTokenizer\n",
    "\n",
    "from nltk.corpus import stopwords\n",
    "STOPWORDS = stopwords.words('russian')"
   ]
  },
  {
   "cell_type": "markdown",
   "metadata": {},
   "source": [
    "## Preprocessing"
   ]
  },
  {
   "cell_type": "code",
   "execution_count": 2,
   "metadata": {},
   "outputs": [],
   "source": [
    "def remove_punct(message):\n",
    "    message = str(message)\n",
    "    if len(message) == 0:\n",
    "        message_wo_punct = message\n",
    "    else:\n",
    "        message_wo_punct = re.sub(r'[^\\w\\s]', ' ', message).lower()\n",
    "    return message_wo_punct"
   ]
  },
  {
   "cell_type": "code",
   "execution_count": 3,
   "metadata": {},
   "outputs": [],
   "source": [
    "def read_dataset(path):\n",
    "    news = pd.read_excel(path, sheet_name='Новости')\n",
    "\n",
    "    company = pd.read_excel(path, sheet_name='Компании', header=None).fillna('')\n",
    "    people = pd.read_excel(path, sheet_name='Аффилированности', header=None).fillna('')\n",
    "\n",
    "    all_company = np.concatenate(company.values)\n",
    "    all_people = np.concatenate(people.values)\n",
    "\n",
    "    all_people = [remove_punct(key) for key in all_people if key != '']\n",
    "    all_company = [remove_punct(key) for key in all_company if key != '']\n",
    "\n",
    "    return news, all_people, all_company"
   ]
  },
  {
   "cell_type": "code",
   "execution_count": 4,
   "metadata": {},
   "outputs": [],
   "source": [
    "def find_key(text, keywords):\n",
    "    result = []\n",
    "    for key in keywords:\n",
    "        if text.find(key) > -1:\n",
    "            result.append(key)\n",
    "    return result"
   ]
  },
  {
   "cell_type": "code",
   "execution_count": 5,
   "metadata": {},
   "outputs": [],
   "source": [
    "def capital_letter(text_list):\n",
    "    result = []\n",
    "    for text in text_list:\n",
    "        result.append([x.title() for x in text])\n",
    "    return result"
   ]
  },
  {
   "cell_type": "code",
   "execution_count": 6,
   "metadata": {},
   "outputs": [],
   "source": [
    "def get_good_news(path):\n",
    "    news, people, company = read_dataset(path)\n",
    "\n",
    "    all_text = (news['заголовок'] + ' ' + news['текст']).apply(remove_punct)\n",
    "\n",
    "    people = all_text.apply(find_key, args=(people,))\n",
    "    company = all_text.apply(find_key, args=(company,))\n",
    "\n",
    "    people = capital_letter(people)\n",
    "    company = capital_letter(company)\n",
    "\n",
    "    good_index = []\n",
    "    for i in news.index:\n",
    "        if any([people[i], company[i]]):\n",
    "            good_index.append(i)\n",
    "\n",
    "    return people, company, good_index, news"
   ]
  },
  {
   "cell_type": "markdown",
   "metadata": {},
   "source": [
    "## Train function"
   ]
  },
  {
   "cell_type": "code",
   "execution_count": 7,
   "metadata": {},
   "outputs": [],
   "source": [
    "def train_model(path):\n",
    "    train = pd.read_excel(path)\n",
    "    train['важность'] = train['важность'].fillna(0)\n",
    "    train.fillna('None', inplace=True)\n",
    "\n",
    "    x = train['заголовок'] + ' ' + train['текст']\n",
    "\n",
    "    tokenizer = RussianTokenizer(lemmas=True, stopwords=STOPWORDS)\n",
    "    vectorizer = TfIdfVectorizer(mode='train')\n",
    "    vectorizer.fit(tokenizer(x))\n",
    "\n",
    "    x_train = vectorizer(tokenizer(x))\n",
    "    y_train = train['важность']\n",
    "\n",
    "    model = SGDClassifier(alpha=10 ** (-4), loss='log', penalty='l2',\n",
    "                          max_iter=180, n_jobs=-1, random_state=42)\n",
    "\n",
    "    model.fit(x_train, y_train)\n",
    "\n",
    "    dict_model = {'porog': 0.25,\n",
    "                  'tokenizer': tokenizer,\n",
    "                  'vectorizer': vectorizer,\n",
    "                  'model': model}\n",
    "\n",
    "    filename = 'alfa_model.pickle'\n",
    "    pickle.dump(dict_model, open(filename, 'wb'))\n",
    "    return True"
   ]
  },
  {
   "cell_type": "markdown",
   "metadata": {},
   "source": [
    "## Predict function"
   ]
  },
  {
   "cell_type": "code",
   "execution_count": 8,
   "metadata": {},
   "outputs": [],
   "source": [
    "def predict_model(path):\n",
    "    people, company, good_index, news = get_good_news(path)\n",
    "\n",
    "    model_name = 'alfa_model.pickle'\n",
    "    dict_model = pickle.load(open(model_name, 'rb'))\n",
    "\n",
    "    porog = dict_model['porog']\n",
    "    tokenizer = dict_model['tokenizer']\n",
    "    vectorizer = dict_model['vectorizer']\n",
    "    model = dict_model['model']\n",
    "\n",
    "    x = (news.loc[good_index, 'заголовок'] + ' ' + news.loc[good_index, 'текст']).apply(remove_punct)\n",
    "    x = vectorizer(tokenizer(x.values))\n",
    "\n",
    "    predict = model.predict_proba(x)[:, 1] > porog\n",
    "    predict = dict(zip(good_index, predict))\n",
    "\n",
    "    result = []\n",
    "    for i in news.index:\n",
    "\n",
    "        answer = {'title': news.loc[i, 'заголовок'],\n",
    "                  'date': news.loc[i, 'дата'],\n",
    "                  'text': news.loc[i, 'текст'],\n",
    "                  'is_important': False,\n",
    "                  'personalities': people[i],\n",
    "                  'organizations': company[i]\n",
    "                  }\n",
    "\n",
    "        if i in good_index:\n",
    "            answer['is_important'] = predict[i]\n",
    "\n",
    "        result.append(answer)\n",
    "    return result"
   ]
  },
  {
   "cell_type": "code",
   "execution_count": 9,
   "metadata": {
    "scrolled": false
   },
   "outputs": [
    {
     "name": "stderr",
     "output_type": "stream",
     "text": [
      "2019-01-13 18:56:32.914 INFO in 'pymorphy2.opencorpora_dict.wrapper'['wrapper'] at line 16: Loading dictionaries from /home/whale/anaconda3/lib/python3.6/site-packages/pymorphy2_dicts/data\n",
      "2019-01-13 18:56:32.947 INFO in 'pymorphy2.opencorpora_dict.wrapper'['wrapper'] at line 20: format: 2.4, revision: 393442, updated: 2015-01-17T16:03:56.586168\n"
     ]
    },
    {
     "data": {
      "text/plain": [
       "True"
      ]
     },
     "execution_count": 9,
     "metadata": {},
     "output_type": "execute_result"
    }
   ],
   "source": [
    "train_model('train.xlsx')"
   ]
  },
  {
   "cell_type": "code",
   "execution_count": 10,
   "metadata": {
    "scrolled": true
   },
   "outputs": [
    {
     "name": "stderr",
     "output_type": "stream",
     "text": [
      "2019-01-13 18:56:40.87 INFO in 'pymorphy2.opencorpora_dict.wrapper'['wrapper'] at line 16: Loading dictionaries from /home/whale/anaconda3/lib/python3.6/site-packages/pymorphy2_dicts/data\n",
      "2019-01-13 18:56:40.118 INFO in 'pymorphy2.opencorpora_dict.wrapper'['wrapper'] at line 20: format: 2.4, revision: 393442, updated: 2015-01-17T16:03:56.586168\n"
     ]
    }
   ],
   "source": [
    "pred = predict_model('test.xlsx')"
   ]
  },
  {
   "cell_type": "code",
   "execution_count": 11,
   "metadata": {},
   "outputs": [],
   "source": [
    "prediction = [x['is_important'] for x in pred]"
   ]
  },
  {
   "cell_type": "code",
   "execution_count": 12,
   "metadata": {},
   "outputs": [],
   "source": [
    "y_true = pd.read_excel('test.xlsx')['важность'].values"
   ]
  },
  {
   "cell_type": "code",
   "execution_count": 13,
   "metadata": {},
   "outputs": [],
   "source": [
    "from sklearn.metrics import accuracy_score, recall_score, precision_score, f1_score"
   ]
  },
  {
   "cell_type": "markdown",
   "metadata": {},
   "source": [
    "## Score"
   ]
  },
  {
   "cell_type": "code",
   "execution_count": 14,
   "metadata": {},
   "outputs": [
    {
     "name": "stdout",
     "output_type": "stream",
     "text": [
      "accuracy_score = 0.8215297450424929\n",
      "recall_score = 0.9485294117647058\n",
      "precision_score = 0.6972972972972973\n",
      "f1_score_weighted = 0.8037383177570093\n"
     ]
    }
   ],
   "source": [
    "print('accuracy_score = {}'.format(accuracy_score(y_true, prediction)))\n",
    "print('recall_score = {}'.format(recall_score(y_true, prediction)))\n",
    "print('precision_score = {}'.format(precision_score(y_true, prediction)))\n",
    "print('f1_score_weighted = {}'.format(f1_score(y_true, prediction, 'weighted')))"
   ]
  },
  {
   "cell_type": "code",
   "execution_count": null,
   "metadata": {},
   "outputs": [],
   "source": []
  }
 ],
 "metadata": {
  "kernelspec": {
   "display_name": "Python 3",
   "language": "python",
   "name": "python3"
  },
  "language_info": {
   "codemirror_mode": {
    "name": "ipython",
    "version": 3
   },
   "file_extension": ".py",
   "mimetype": "text/x-python",
   "name": "python",
   "nbconvert_exporter": "python",
   "pygments_lexer": "ipython3",
   "version": "3.6.5"
  }
 },
 "nbformat": 4,
 "nbformat_minor": 2
}
