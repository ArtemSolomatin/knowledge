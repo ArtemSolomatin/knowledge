{
 "cells": [
  {
   "cell_type": "code",
   "execution_count": 1,
   "metadata": {},
   "outputs": [
    {
     "data": {
      "text/html": [
       "<script>requirejs.config({paths: { 'plotly': ['https://cdn.plot.ly/plotly-latest.min']},});if(!window.Plotly) {{require(['plotly'],function(plotly) {window.Plotly=plotly;});}}</script>"
      ],
      "text/vnd.plotly.v1+html": [
       "<script>requirejs.config({paths: { 'plotly': ['https://cdn.plot.ly/plotly-latest.min']},});if(!window.Plotly) {{require(['plotly'],function(plotly) {window.Plotly=plotly;});}}</script>"
      ]
     },
     "metadata": {},
     "output_type": "display_data"
    }
   ],
   "source": [
    "import pandas as pd\n",
    "import numpy as np\n",
    "from datetime import datetime\n",
    "import matplotlib.pyplot as plt\n",
    "%matplotlib inline\n",
    "import plotly.offline as py\n",
    "py.init_notebook_mode(connected=True)\n",
    "import plotly.graph_objs as go\n",
    "\n",
    "from sklearn.ensemble import RandomForestRegressor\n",
    "from sklearn.model_selection import train_test_split"
   ]
  },
  {
   "cell_type": "code",
   "execution_count": 2,
   "metadata": {},
   "outputs": [
    {
     "name": "stderr",
     "output_type": "stream",
     "text": [
      "/home/whale/anaconda3/lib/python3.6/site-packages/ipykernel_launcher.py:3: FutureWarning:\n",
      "\n",
      "Sorting because non-concatenation axis is not aligned. A future version\n",
      "of pandas will change to not sort by default.\n",
      "\n",
      "To accept the future behavior, pass 'sort=True'.\n",
      "\n",
      "To retain the current behavior and silence the warning, pass sort=False\n",
      "\n",
      "\n"
     ]
    }
   ],
   "source": [
    "train_df = pd.read_csv('input/train.csv')\n",
    "test_df = pd.read_csv('input/test.csv')\n",
    "all_data_df = pd.concat([train_df,test_df])"
   ]
  },
  {
   "cell_type": "code",
   "execution_count": 3,
   "metadata": {},
   "outputs": [],
   "source": [
    "all_data_df['date'] = pd.to_datetime(all_data_df['date'])\n",
    "all_data_df['month'] = all_data_df['date'].dt.month\n",
    "all_data_df['weekday'] = all_data_df['date'].dt.dayofweek\n",
    "all_data_df['week_of_year']  = all_data_df.date.dt.weekofyear"
   ]
  },
  {
   "cell_type": "code",
   "execution_count": 4,
   "metadata": {
    "scrolled": true
   },
   "outputs": [],
   "source": [
    "all_data_df['date'] = all_data_df['date'] - pd.to_datetime('2013-01-01')"
   ]
  },
  {
   "cell_type": "code",
   "execution_count": 5,
   "metadata": {},
   "outputs": [],
   "source": [
    "all_data_df['date'] = all_data_df['date'].apply(lambda x: x.days)"
   ]
  },
  {
   "cell_type": "code",
   "execution_count": 6,
   "metadata": {},
   "outputs": [],
   "source": [
    "all_data_df[\"median-store_item-month\"] = all_data_df.groupby([\"month\",\"item\",\"store\"])[\"sales\"].transform(\"median\")\n",
    "all_data_df[\"median-store_item-week\"] = all_data_df.groupby([\"week_of_year\",\"item\",\"store\"])[\"sales\"].transform(\"median\")\n",
    "\n",
    "all_data_df[\"mean-store_item-month\"] = all_data_df.groupby([\"week_of_year\",\"item\",\"store\"])[\"sales\"].transform(\"mean\")\n",
    "all_data_df[\"mean-store_item-week\"] = all_data_df.groupby([\"week_of_year\",\"item\",\"store\"])[\"sales\"].transform(\"mean\")\n",
    "\n",
    "all_data_df[\"item-month-sum\"] = all_data_df.groupby([\"month\",\"item\"])[\"sales\"].transform(\"sum\")\n",
    "\n",
    "all_data_df[\"store-month-sum\"] = all_data_df.groupby([\"month\",\"store\"])[\"sales\"].transform(\"sum\")"
   ]
  },
  {
   "cell_type": "code",
   "execution_count": 10,
   "metadata": {},
   "outputs": [],
   "source": [
    "all_data_df['store_item_shifted-90'] = all_data_df.groupby([\"item\",\"store\"])['sales'].transform(lambda x:x.shift(90)) #3 months ago\n",
    "all_data_df['store_item_shifted-122'] = all_data_df.groupby([\"item\",\"store\"])['sales'].transform(lambda x:x.shift(122)) #4 months ago\n",
    "all_data_df['store_item_shifted-180'] = all_data_df.groupby([\"item\",\"store\"])['sales'].transform(lambda x:x.shift(180)) #6 months ago"
   ]
  },
  {
   "cell_type": "code",
   "execution_count": 11,
   "metadata": {},
   "outputs": [],
   "source": [
    "all_data_df = all_data_df[all_data_df['date'] > 180]"
   ]
  },
  {
   "cell_type": "code",
   "execution_count": 17,
   "metadata": {},
   "outputs": [],
   "source": [
    "col = all_data_df.columns.drop(['id', 'sales'])"
   ]
  },
  {
   "cell_type": "code",
   "execution_count": 18,
   "metadata": {},
   "outputs": [],
   "source": [
    "y = 'sales'\n",
    "train_df = all_data_df.loc[~all_data_df.sales.isna()]\n",
    "test_df = all_data_df.loc[all_data_df.sales.isna()]\n",
    "\n",
    "train_x, train_cv, train_y, train_y_cv = train_test_split(train_df[col],train_df[y], test_size=0.15, random_state=42)"
   ]
  },
  {
   "cell_type": "code",
   "execution_count": 19,
   "metadata": {},
   "outputs": [
    {
     "data": {
      "text/plain": [
       "93.32"
      ]
     },
     "execution_count": 19,
     "metadata": {},
     "output_type": "execute_result"
    }
   ],
   "source": [
    "random_forest = RandomForestRegressor(n_estimators=100)\n",
    "random_forest.fit(train_x, train_y)\n",
    "acc_random_forest = round(random_forest.score(train_cv, train_y_cv) * 100, 2)\n",
    "acc_random_forest"
   ]
  },
  {
   "cell_type": "code",
   "execution_count": 20,
   "metadata": {},
   "outputs": [],
   "source": [
    "random_forest.fit(train_df[col], train_df[y])\n",
    "y_test = random_forest.predict(test_df[col])\n",
    "sample = pd.read_csv('input/sample_submission.csv')\n",
    "sample['sales'] = y_test\n",
    "sample.to_csv('simple_starter.csv', index=False)"
   ]
  },
  {
   "cell_type": "code",
   "execution_count": null,
   "metadata": {},
   "outputs": [],
   "source": []
  }
 ],
 "metadata": {
  "kernelspec": {
   "display_name": "Python 3",
   "language": "python",
   "name": "python3"
  },
  "language_info": {
   "codemirror_mode": {
    "name": "ipython",
    "version": 3
   },
   "file_extension": ".py",
   "mimetype": "text/x-python",
   "name": "python",
   "nbconvert_exporter": "python",
   "pygments_lexer": "ipython3",
   "version": "3.6.5"
  }
 },
 "nbformat": 4,
 "nbformat_minor": 2
}
