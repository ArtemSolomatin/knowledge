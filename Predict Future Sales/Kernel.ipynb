{
 "cells": [
  {
   "cell_type": "code",
   "execution_count": 14,
   "metadata": {},
   "outputs": [],
   "source": [
    "import pandas as pd\n",
    "import numpy as np\n",
    "\n",
    "from itertools import product\n",
    "\n",
    "from sklearn.ensemble import RandomForestRegressor\n",
    "from lightgbm import LGBMRegressor\n",
    "from sklearn.model_selection import train_test_split\n",
    "from sklearn.metrics import mean_squared_error"
   ]
  },
  {
   "cell_type": "code",
   "execution_count": 15,
   "metadata": {},
   "outputs": [],
   "source": [
    "train_df = pd.read_csv('generated_train.csv')\n",
    "test_df = pd.read_csv('input/test.csv')\n",
    "#old_train = pd.read_csv('input/train.csv')"
   ]
  },
  {
   "cell_type": "code",
   "execution_count": 16,
   "metadata": {},
   "outputs": [],
   "source": [
    "train_x = train_df[train_df['date_block_num'] < 33].drop(['item_cnt_month'], axis = 1)\n",
    "train_y = train_df[train_df['date_block_num'] < 33]['item_cnt_month']\n",
    "train_cv = train_df[train_df['date_block_num'] > 32].drop(['item_cnt_month'], axis = 1)\n",
    "train_cv_y = train_df[train_df['date_block_num'] > 32]['item_cnt_month']"
   ]
  },
  {
   "cell_type": "code",
   "execution_count": 24,
   "metadata": {},
   "outputs": [
    {
     "data": {
      "text/plain": [
       "4.145422431117632"
      ]
     },
     "execution_count": 24,
     "metadata": {},
     "output_type": "execute_result"
    }
   ],
   "source": [
    "lightGBM = LGBMRegressor()\n",
    "lightGBM.fit(train_x, train_y)\n",
    "prediction = lightGBM.predict(train_cv)\n",
    "#ограничить сверху и снизу\n",
    "score_lightGBM = np.sqrt(mean_squared_error(train_cv_y, prediction))\n",
    "score_lightGBM"
   ]
  },
  {
   "cell_type": "code",
   "execution_count": 20,
   "metadata": {},
   "outputs": [],
   "source": [
    "col = ['date_block_num', 'shop_id', 'item_id']\n",
    "y = 'item_cnt_month'"
   ]
  },
  {
   "cell_type": "code",
   "execution_count": 23,
   "metadata": {},
   "outputs": [],
   "source": [
    "lightGBM.fit(train_df[col], train_df[y])\n",
    "y_test = lightGBM.predict(test_df)\n",
    "sample = pd.read_csv('input/sample_submission.csv')\n",
    "sample[y] = y_test\n",
    "sample.loc[sample[y] > 23, y] = 23\n",
    "sample.loc[sample[y] < 0, y] = 0\n",
    "sample.to_csv('output/submission.csv', index=False)"
   ]
  }
 ],
 "metadata": {
  "kernelspec": {
   "display_name": "Python 3",
   "language": "python",
   "name": "python3"
  },
  "language_info": {
   "codemirror_mode": {
    "name": "ipython",
    "version": 3
   },
   "file_extension": ".py",
   "mimetype": "text/x-python",
   "name": "python",
   "nbconvert_exporter": "python",
   "pygments_lexer": "ipython3",
   "version": "3.6.5"
  }
 },
 "nbformat": 4,
 "nbformat_minor": 2
}
