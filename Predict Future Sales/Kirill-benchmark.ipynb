{
 "cells": [
  {
   "cell_type": "markdown",
   "metadata": {
    "run_control": {
     "frozen": false,
     "read_only": false
    }
   },
   "source": [
    "# Benchmark"
   ]
  },
  {
   "cell_type": "code",
   "execution_count": 19,
   "metadata": {
    "ExecuteTime": {
     "end_time": "2018-05-23T16:15:27.249595Z",
     "start_time": "2018-05-23T16:15:12.445759Z"
    },
    "run_control": {
     "frozen": false,
     "read_only": false
    }
   },
   "outputs": [],
   "source": [
    "# imports\n",
    "\n",
    "import pandas as pd\n",
    "pd.set_option('display.max_rows', 20)\n",
    "pd.set_option('display.max_columns', 20)\n",
    "\n",
    "import numpy as np\n",
    "import gc\n",
    "\n",
    "import catboost ## thanks to yandex ! :) \n",
    "from xgboost import XGBRegressor\n",
    "from sklearn.linear_model import LinearRegression\n",
    "from sklearn.metrics import mean_squared_error\n",
    "\n",
    "import seaborn as sns\n",
    "import matplotlib.pyplot as plt\n",
    "%matplotlib inline \n",
    "\n",
    "# info about itertools.product: \n",
    "# https://pythonworld.ru/moduli/modul-itertools.html\n",
    "# https://docs.python.org/2/library/itertools.html\n",
    "from itertools import product\n",
    "\n",
    "from sklearn.model_selection import KFold\n",
    "from sklearn.preprocessing import StandardScaler\n",
    "from sklearn.neural_network import MLPRegressor\n",
    "from sklearn.ensemble import RandomForestRegressor , AdaBoostRegressor, BaggingRegressor , ExtraTreesRegressor\n",
    "from sklearn.metrics import make_scorer\n",
    "\n",
    "import xgboost\n",
    "from xgboost import DMatrix"
   ]
  },
  {
   "cell_type": "code",
   "execution_count": 20,
   "metadata": {
    "ExecuteTime": {
     "end_time": "2018-05-23T16:15:27.277169Z",
     "start_time": "2018-05-23T16:15:27.263256Z"
    },
    "run_control": {
     "frozen": false,
     "read_only": false
    }
   },
   "outputs": [],
   "source": [
    "# downcast types to save memory\n",
    "\n",
    "def downcast_dtypes(df):\n",
    "    '''\n",
    "        Changes column types in the dataframe: \n",
    "                \n",
    "                `float64` type to `float32`\n",
    "                `int64`   type to `int32`\n",
    "    '''\n",
    "    \n",
    "    # Select columns to downcast\n",
    "    float_cols = [c for c in df if df[c].dtype == \"float64\"]\n",
    "    int_cols =   [c for c in df if df[c].dtype == \"int64\"]\n",
    "    \n",
    "    # Downcast\n",
    "    df[float_cols] = df[float_cols].astype(np.float32)\n",
    "    df[int_cols]   = df[int_cols].astype(np.int32)\n",
    "    \n",
    "    return df"
   ]
  },
  {
   "cell_type": "code",
   "execution_count": 21,
   "metadata": {
    "ExecuteTime": {
     "end_time": "2018-05-23T16:15:27.417056Z",
     "start_time": "2018-05-23T16:15:27.284622Z"
    }
   },
   "outputs": [],
   "source": [
    "def rmse(y_true, y_pred):\n",
    "    y_true[np.where(y_true < 0)] = 0\n",
    "    y_true[np.where(y_true > 20)] = 20\n",
    "    \n",
    "    y_pred[np.where(y_pred < 0)] = 0\n",
    "    y_pred[np.where(y_pred > 20)] = 20\n",
    "    \n",
    "    return np.sqrt(np.mean((y_pred - y_train)**2))\n",
    "rmse_scorer = make_scorer(rmse, greater_is_better=False)"
   ]
  },
  {
   "cell_type": "code",
   "execution_count": 22,
   "metadata": {
    "ExecuteTime": {
     "end_time": "2018-05-23T16:15:31.225323Z",
     "start_time": "2018-05-23T16:15:28.194483Z"
    },
    "run_control": {
     "frozen": false,
     "read_only": false
    }
   },
   "outputs": [],
   "source": [
    "sales = pd.read_csv('input/train.csv')\n",
    "shops = pd.read_csv('input/shops.csv')\n",
    "items = pd.read_csv('input//items.csv')\n",
    "item_cats = pd.read_csv('input/item_categories.csv')\n",
    "test = pd.read_csv('input/test.csv')"
   ]
  },
  {
   "cell_type": "code",
   "execution_count": 23,
   "metadata": {
    "run_control": {
     "frozen": false,
     "read_only": false
    }
   },
   "outputs": [
    {
     "name": "stderr",
     "output_type": "stream",
     "text": [
      "/home/whale/anaconda3/lib/python3.6/site-packages/ipykernel_launcher.py:2: FutureWarning: Sorting because non-concatenation axis is not aligned. A future version\n",
      "of pandas will change to not sort by default.\n",
      "\n",
      "To accept the future behavior, pass 'sort=True'.\n",
      "\n",
      "To retain the current behavior and silence the warning, pass sort=False\n",
      "\n",
      "  \n"
     ]
    }
   ],
   "source": [
    "test[\"date_block_num\"] = sales.date_block_num.max() + 1\n",
    "sales = pd.concat([sales, test])"
   ]
  },
  {
   "cell_type": "code",
   "execution_count": 24,
   "metadata": {},
   "outputs": [],
   "source": [
    "# Create \"grid\" with columns\n",
    "index_cols = ['shop_id', 'item_id', 'date_block_num']\n",
    "\n",
    "# For every month we create a grid from all shops/items combinations from that month\n",
    "grid = [] \n",
    "for block_num in sales['date_block_num'].unique():\n",
    "    cur_shops = sales.loc[sales['date_block_num'] == block_num, 'shop_id'].unique()\n",
    "    cur_items = sales.loc[sales['date_block_num'] == block_num, 'item_id'].unique()\n",
    "    grid.append(np.array(list(product(*[cur_shops, cur_items, [block_num]])),dtype='int32'))\n",
    "\n",
    "# Turn the grid into a dataframe\n",
    "grid = pd.DataFrame(np.vstack(grid), columns = index_cols,dtype=np.int32)"
   ]
  },
  {
   "cell_type": "code",
   "execution_count": 25,
   "metadata": {},
   "outputs": [
    {
     "name": "stderr",
     "output_type": "stream",
     "text": [
      "/home/whale/anaconda3/lib/python3.6/site-packages/pandas/core/groupby/groupby.py:4658: FutureWarning: using a dict with renaming is deprecated and will be removed in a future version\n",
      "  return super(DataFrameGroupBy, self).aggregate(arg, *args, **kwargs)\n"
     ]
    }
   ],
   "source": [
    "# Groupby data to get shop-item-month aggregates\n",
    "gb = sales.groupby(index_cols,as_index=False).agg({'item_cnt_day':{'target':'sum'}})\n",
    "# Fix column names\n",
    "gb.columns = [col[0] if col[-1]=='' else col[-1] for col in gb.columns.values] \n",
    "# Join it to the grid\n",
    "all_data = pd.merge(grid, gb, how='left', on=index_cols).fillna(0)\n",
    "\n",
    "# Same as above but with shop-month aggregates\n",
    "gb = sales.groupby(['shop_id', 'date_block_num'],as_index=False).agg({'item_cnt_day':{'target_shop':'sum'}})\n",
    "gb.columns = [col[0] if col[-1]=='' else col[-1] for col in gb.columns.values]\n",
    "all_data = pd.merge(all_data, gb, how='left', on=['shop_id', 'date_block_num']).fillna(0)"
   ]
  },
  {
   "cell_type": "code",
   "execution_count": 26,
   "metadata": {
    "run_control": {
     "frozen": false,
     "read_only": false
    }
   },
   "outputs": [
    {
     "name": "stderr",
     "output_type": "stream",
     "text": [
      "/home/whale/anaconda3/lib/python3.6/site-packages/pandas/core/groupby/groupby.py:4658: FutureWarning: using a dict with renaming is deprecated and will be removed in a future version\n",
      "  return super(DataFrameGroupBy, self).aggregate(arg, *args, **kwargs)\n"
     ]
    }
   ],
   "source": [
    "# Same as above but with item-month aggregates\n",
    "gb = sales.groupby(['item_id', 'date_block_num'],as_index=False).agg({'item_cnt_day':{'target_item':'sum'}})\n",
    "gb.columns = [col[0] if col[-1] == '' else col[-1] for col in gb.columns.values]\n",
    "all_data = pd.merge(all_data, gb, how='left', on=['item_id', 'date_block_num']).fillna(0)\n",
    "\n",
    "# Downcast dtypes from 64 to 32 bit to save memory\n",
    "all_data = downcast_dtypes(all_data)\n",
    "del grid, gb \n",
    "gc.collect();"
   ]
  },
  {
   "cell_type": "code",
   "execution_count": 27,
   "metadata": {},
   "outputs": [],
   "source": [
    "# List of columns that we will use to create lags\n",
    "cols_to_rename = list(all_data.columns.difference(index_cols)) \n",
    "\n",
    "shift_range = [1,2,3,4]\n",
    "\n",
    "for month_shift in shift_range:\n",
    "    train_shift = all_data[index_cols + cols_to_rename].copy()\n",
    "    \n",
    "    train_shift['date_block_num'] = train_shift['date_block_num'] + month_shift\n",
    "    \n",
    "    foo = lambda x: '{}_lag_{}'.format(x, month_shift) if x in cols_to_rename else x\n",
    "    train_shift = train_shift.rename(columns=foo)\n",
    "\n",
    "    all_data = pd.merge(all_data, train_shift, on=index_cols, how='left').fillna(0)\n",
    "\n",
    "del train_shift"
   ]
  },
  {
   "cell_type": "code",
   "execution_count": 28,
   "metadata": {
    "run_control": {
     "frozen": false,
     "read_only": false
    }
   },
   "outputs": [],
   "source": [
    "# !! Don't use old data from year 2013 !! \n",
    "all_data = all_data[(all_data[\"date_block_num\"] > 20)]\n",
    "\n",
    "# List of all lagged features\n",
    "fit_cols = [col for col in all_data.columns if col[-1] in [str(item) for item in shift_range]] \n",
    "# We will drop these at fitting stage\n",
    "to_drop_cols = list(set(list(all_data.columns)) - (set(fit_cols)|set(index_cols))) + ['date_block_num'] \n",
    "\n",
    "# Category for each item\n",
    "item_category_mapping = items[['item_id','item_category_id']].drop_duplicates()\n",
    "\n",
    "all_data = pd.merge(all_data, item_category_mapping, how='left', on='item_id')\n",
    "all_data = downcast_dtypes(all_data)\n",
    "gc.collect();"
   ]
  },
  {
   "cell_type": "code",
   "execution_count": 29,
   "metadata": {
    "run_control": {
     "frozen": false,
     "read_only": false
    }
   },
   "outputs": [],
   "source": [
    "# now separate train and test\n",
    "test = pd.merge(test, all_data[all_data[\"date_block_num\"] == 34], on=[\"shop_id\", \"item_id\", \"date_block_num\"])\n",
    "train = all_data[all_data[\"date_block_num\"] < 34]"
   ]
  },
  {
   "cell_type": "code",
   "execution_count": 30,
   "metadata": {
    "run_control": {
     "frozen": false,
     "read_only": false
    }
   },
   "outputs": [
    {
     "name": "stdout",
     "output_type": "stream",
     "text": [
      "Test `date_block_num` is 33\n"
     ]
    }
   ],
   "source": [
    "# Save `date_block_num`, as we can't use them as features, but will need them to split the dataset into parts \n",
    "dates = train['date_block_num']\n",
    "\n",
    "last_block = dates.max()\n",
    "print('Test `date_block_num` is %d' % last_block)"
   ]
  },
  {
   "cell_type": "markdown",
   "metadata": {},
   "source": [
    "# Validation"
   ]
  },
  {
   "cell_type": "code",
   "execution_count": 31,
   "metadata": {
    "run_control": {
     "frozen": false,
     "read_only": false
    }
   },
   "outputs": [],
   "source": [
    "# validate our model on last month of train (October, 2015)\n",
    "\n",
    "dates_train = dates[dates <  last_block]\n",
    "dates_test  = dates[dates == last_block]\n",
    "\n",
    "X_train = train.loc[dates <  last_block].drop(to_drop_cols, axis=1)\n",
    "X_test =  train.loc[dates == last_block].drop(to_drop_cols, axis=1)\n",
    "\n",
    "y_train = train.loc[dates <  last_block, 'target'].values\n",
    "y_test =  train.loc[dates == last_block, 'target'].values"
   ]
  },
  {
   "cell_type": "code",
   "execution_count": null,
   "metadata": {
    "scrolled": true
   },
   "outputs": [],
   "source": [
    "%%time\n",
    "xgb = XGBRegressor(max_depth=5 , colsample_bytree=0.8 , colsample_bylevel=0.8)\n",
    "xgb.fit(X_train.values, y_train)\n",
    "preds_xgb = xgb.predict(X_test.values)\n",
    "\n",
    "print(\"xgboost val score = {}\".format(rmse(preds_xgb , y_test)))"
   ]
  },
  {
   "cell_type": "code",
   "execution_count": null,
   "metadata": {},
   "outputs": [],
   "source": [
    "best_%%time\n",
    "scale = StandardScaler()\n",
    "X_train_scale = scale.fit_transform(X_train)\n",
    "X_test_scale = scale.transform(X_test)\n",
    "\n",
    "\n",
    "mlp = MLPRegressor(random_state=42)\n",
    "mlp.fit(X_train_scale , y_train)\n",
    "preds_mlp = mlp.predict(X_test_scale)\n",
    "print ('MLPRegressor val score = {}'.format(rmse(preds_mlp , y_test)))"
   ]
  },
  {
   "cell_type": "code",
   "execution_count": null,
   "metadata": {},
   "outputs": [],
   "source": [
    "%%time\n",
    "rf = RandomForestRegressor(n_estimators=100 , max_depth=5 , n_jobs=-1 , random_state=0)\n",
    "rf.fit(X_train.values, y_train)\n",
    "preds_rf = rf.predict(X_test.values)\n",
    "\n",
    "print(\"rf val score = {}\".format(rmse(preds_rf , y_test)))"
   ]
  },
  {
   "cell_type": "code",
   "execution_count": null,
   "metadata": {
    "scrolled": true
   },
   "outputs": [],
   "source": [
    "%%time\n",
    "model = Sequential()\n",
    "model.add(Dense(64, activation='relu', input_dim=X_train_scale.shape[1]))\n",
    "model.add(Dense(32, kernel_initializer='uniform', activation='relu'))\n",
    "model.add(Dense(16, kernel_initializer='uniform', activation='relu'))\n",
    "model.add(Dense(1))\n",
    "model.compile(optimizer='rmsprop', loss='mse', metrics=['mse'])\n",
    "model.fit(X_train_scale, y_train, batch_size=640, epochs=10)\n",
    "preds_keras = model.predict(X_test_scale)\n",
    "print ('keras val score = {}'.format(rmse(preds_keras.T[0] , y_test)))"
   ]
  },
  {
   "cell_type": "code",
   "execution_count": null,
   "metadata": {},
   "outputs": [],
   "source": [
    "%%time\n",
    "xgb_params0={'colsample_bytree': 1, 'silent': 1, 'nthread': 8, 'min_child_weight': 10,\\\n",
    "    'n_estimators': 300, 'subsample': 1, 'learning_rate': 0.09, 'objective': 'reg:linear',\\\n",
    "    'seed': 10, 'max_depth': 7, 'gamma': 0.}\n",
    "xgb_params1={'colsample_bytree': 0.77, 'silent': 1, 'nthread': 8, 'min_child_weight': 15,\\\n",
    "    'n_estimators': 500, 'subsample': 0.77, 'learning_rate': 0.035, 'objective': 'reg:linear',\\\n",
    "    'seed': 11, 'max_depth': 6, 'gamma': 0.2}\n",
    "\n",
    "xgb = XGBRegressor(**xgb_params0)\n",
    "xgb.fit(X_train.values, y_train)\n",
    "preds_xgb = xgb.predict(X_test.values)\n",
    "\n",
    "print(\"xgboost 0 val score = {}\".format(rmse(preds_xgb , y_test)))\n",
    "\n",
    "xgb = XGBRegressor(**xgb_params1)\n",
    "xgb.fit(X_train.values, y_train)\n",
    "preds_xgb = xgb.predict(X_test.values)\n",
    "\n",
    "print(\"xgboost 1 val score = {}\".format(rmse(preds_xgb , y_test)))"
   ]
  },
  {
   "cell_type": "code",
   "execution_count": 14,
   "metadata": {},
   "outputs": [],
   "source": [
    "def my_rmse(y_pred, y_true):\n",
    "    y_true = y_true.get_label()\n",
    "    \n",
    "    y_true[np.where(y_true < 0)] = 0\n",
    "    y_true[np.where(y_true > 20)] = 20\n",
    "    \n",
    "    y_pred[np.where(y_pred < 0)] = 0\n",
    "    y_pred[np.where(y_pred > 20)] = 20\n",
    "    \n",
    "    return 'my_rmse' , np.sqrt(np.mean((y_pred - y_true)**2))"
   ]
  },
  {
   "cell_type": "code",
   "execution_count": 15,
   "metadata": {
    "scrolled": true
   },
   "outputs": [
    {
     "name": "stdout",
     "output_type": "stream",
     "text": [
      "[0]\ttrain-rmse:3.87756\ttest-rmse:5.30655\ttrain-my_rmse:1.20389\ttest-my_rmse:1.14505\n",
      "Multiple eval metrics have been passed: 'test-my_rmse' will be used for early stopping.\n",
      "\n",
      "Will train until test-my_rmse hasn't improved in 100 rounds.\n",
      "[10]\ttrain-rmse:3.43361\ttest-rmse:5.07073\ttrain-my_rmse:1.0882\ttest-my_rmse:1.05794\n",
      "[20]\ttrain-rmse:3.09287\ttest-rmse:4.8814\ttrain-my_rmse:1.02569\ttest-my_rmse:1.01439\n",
      "[30]\ttrain-rmse:2.85003\ttest-rmse:4.76708\ttrain-my_rmse:0.992111\ttest-my_rmse:0.992397\n",
      "[40]\ttrain-rmse:2.67943\ttest-rmse:4.71297\ttrain-my_rmse:0.972734\ttest-my_rmse:0.980007\n",
      "[50]\ttrain-rmse:2.5512\ttest-rmse:4.66842\ttrain-my_rmse:0.96138\ttest-my_rmse:0.97332\n",
      "[60]\ttrain-rmse:2.45106\ttest-rmse:4.63267\ttrain-my_rmse:0.953173\ttest-my_rmse:0.967928\n",
      "[70]\ttrain-rmse:2.37207\ttest-rmse:4.61047\ttrain-my_rmse:0.947288\ttest-my_rmse:0.964989\n",
      "[80]\ttrain-rmse:2.31706\ttest-rmse:4.57516\ttrain-my_rmse:0.943956\ttest-my_rmse:0.963438\n",
      "[90]\ttrain-rmse:2.26748\ttest-rmse:4.57098\ttrain-my_rmse:0.940967\ttest-my_rmse:0.96213\n",
      "[100]\ttrain-rmse:2.22637\ttest-rmse:4.5678\ttrain-my_rmse:0.939346\ttest-my_rmse:0.961921\n",
      "[110]\ttrain-rmse:2.19606\ttest-rmse:4.56511\ttrain-my_rmse:0.938171\ttest-my_rmse:0.961721\n",
      "[120]\ttrain-rmse:2.17091\ttest-rmse:4.56228\ttrain-my_rmse:0.936824\ttest-my_rmse:0.961685\n",
      "[130]\ttrain-rmse:2.15338\ttest-rmse:4.55318\ttrain-my_rmse:0.935912\ttest-my_rmse:0.961624\n",
      "[140]\ttrain-rmse:2.14023\ttest-rmse:4.54542\ttrain-my_rmse:0.934573\ttest-my_rmse:0.961559\n",
      "[150]\ttrain-rmse:2.12836\ttest-rmse:4.54615\ttrain-my_rmse:0.933766\ttest-my_rmse:0.9617\n",
      "[160]\ttrain-rmse:2.11793\ttest-rmse:4.53723\ttrain-my_rmse:0.932923\ttest-my_rmse:0.961919\n",
      "[170]\ttrain-rmse:2.10433\ttest-rmse:4.53694\ttrain-my_rmse:0.932181\ttest-my_rmse:0.961976\n",
      "[180]\ttrain-rmse:2.09778\ttest-rmse:4.53287\ttrain-my_rmse:0.931844\ttest-my_rmse:0.962225\n",
      "[190]\ttrain-rmse:2.0895\ttest-rmse:4.53278\ttrain-my_rmse:0.930104\ttest-my_rmse:0.961671\n",
      "[200]\ttrain-rmse:2.08402\ttest-rmse:4.52782\ttrain-my_rmse:0.92893\ttest-my_rmse:0.961212\n",
      "[210]\ttrain-rmse:2.07773\ttest-rmse:4.52491\ttrain-my_rmse:0.928119\ttest-my_rmse:0.961266\n",
      "[220]\ttrain-rmse:2.06895\ttest-rmse:4.52676\ttrain-my_rmse:0.927674\ttest-my_rmse:0.961458\n",
      "[230]\ttrain-rmse:2.06434\ttest-rmse:4.52119\ttrain-my_rmse:0.92615\ttest-my_rmse:0.960468\n",
      "[240]\ttrain-rmse:2.05953\ttest-rmse:4.52162\ttrain-my_rmse:0.924373\ttest-my_rmse:0.958174\n",
      "[250]\ttrain-rmse:2.05453\ttest-rmse:4.5235\ttrain-my_rmse:0.923535\ttest-my_rmse:0.95825\n",
      "[260]\ttrain-rmse:2.04729\ttest-rmse:4.52078\ttrain-my_rmse:0.921696\ttest-my_rmse:0.956824\n",
      "[270]\ttrain-rmse:2.04379\ttest-rmse:4.52017\ttrain-my_rmse:0.920497\ttest-my_rmse:0.956843\n",
      "[280]\ttrain-rmse:2.04051\ttest-rmse:4.52453\ttrain-my_rmse:0.919221\ttest-my_rmse:0.956707\n",
      "[290]\ttrain-rmse:2.03546\ttest-rmse:4.52421\ttrain-my_rmse:0.916917\ttest-my_rmse:0.954843\n",
      "[300]\ttrain-rmse:2.02455\ttest-rmse:4.52204\ttrain-my_rmse:0.911422\ttest-my_rmse:0.948949\n",
      "[310]\ttrain-rmse:2.01781\ttest-rmse:4.51832\ttrain-my_rmse:0.909383\ttest-my_rmse:0.949321\n",
      "[320]\ttrain-rmse:2.01148\ttest-rmse:4.51965\ttrain-my_rmse:0.907223\ttest-my_rmse:0.949603\n",
      "[330]\ttrain-rmse:2.00408\ttest-rmse:4.51621\ttrain-my_rmse:0.904528\ttest-my_rmse:0.947151\n",
      "[340]\ttrain-rmse:1.99837\ttest-rmse:4.5128\ttrain-my_rmse:0.903457\ttest-my_rmse:0.946639\n",
      "[350]\ttrain-rmse:1.99462\ttest-rmse:4.51383\ttrain-my_rmse:0.902464\ttest-my_rmse:0.94732\n",
      "[360]\ttrain-rmse:1.98357\ttest-rmse:4.51282\ttrain-my_rmse:0.90059\ttest-my_rmse:0.948269\n",
      "[370]\ttrain-rmse:1.9745\ttest-rmse:4.51354\ttrain-my_rmse:0.899027\ttest-my_rmse:0.948266\n",
      "[380]\ttrain-rmse:1.96916\ttest-rmse:4.51523\ttrain-my_rmse:0.897633\ttest-my_rmse:0.948097\n",
      "[390]\ttrain-rmse:1.96533\ttest-rmse:4.51527\ttrain-my_rmse:0.896364\ttest-my_rmse:0.948376\n",
      "[400]\ttrain-rmse:1.96351\ttest-rmse:4.51625\ttrain-my_rmse:0.895644\ttest-my_rmse:0.948112\n",
      "[410]\ttrain-rmse:1.95518\ttest-rmse:4.52084\ttrain-my_rmse:0.893991\ttest-my_rmse:0.949678\n",
      "[420]\ttrain-rmse:1.94487\ttest-rmse:4.52161\ttrain-my_rmse:0.892881\ttest-my_rmse:0.951454\n",
      "[430]\ttrain-rmse:1.94327\ttest-rmse:4.51991\ttrain-my_rmse:0.892482\ttest-my_rmse:0.951411\n",
      "[440]\ttrain-rmse:1.93337\ttest-rmse:4.51993\ttrain-my_rmse:0.890805\ttest-my_rmse:0.953867\n",
      "Stopping. Best iteration:\n",
      "[340]\ttrain-rmse:1.99837\ttest-rmse:4.5128\ttrain-my_rmse:0.903457\ttest-my_rmse:0.946639\n",
      "\n"
     ]
    }
   ],
   "source": [
    "dtrain = DMatrix(X_train, y_train)\n",
    "dtest = DMatrix(X_test , y_test)\n",
    "watchlist = [(dtrain, 'train') , (dtest, 'test')]\n",
    "param = {'max_depth': 6,\n",
    "         'learning_rate' : 0.03 , \n",
    "         'colsample_bylevel' : 0.8 ,\n",
    "         'colsample_bytree' : 0.8 ,\n",
    "         'eval_metric' : 'rmse',\n",
    "         'nthread' : -1 , \n",
    "         'subsample':0.8\n",
    "        }\n",
    "num_round = 1000\n",
    "bst = xgboost.train(param, dtrain, num_round, watchlist , early_stopping_rounds=100 , verbose_eval=10 , feval=my_rmse)"
   ]
  },
  {
   "cell_type": "code",
   "execution_count": 17,
   "metadata": {},
   "outputs": [],
   "source": [
    "D_test = DMatrix(test[X_train.columns])\n",
    "preds = bst.predict(D_test)\n",
    "ss = pd.read_csv(\"input/sample_submission.csv\")\n",
    "ss.item_cnt_month = preds\n",
    "ss.loc[ss.item_cnt_month > 20,'item_cnt_month'] = 20\n",
    "ss.loc[ss.item_cnt_month < 0, 'item_cnt_month'] = 0\n",
    "ss.to_csv(\"output/xgb_first_submit.csv\", index=False)"
   ]
  },
  {
   "cell_type": "code",
   "execution_count": null,
   "metadata": {},
   "outputs": [],
   "source": []
  }
 ],
 "metadata": {
  "kernelspec": {
   "display_name": "Python 3",
   "language": "python",
   "name": "python3"
  },
  "language_info": {
   "codemirror_mode": {
    "name": "ipython",
    "version": 3
   },
   "file_extension": ".py",
   "mimetype": "text/x-python",
   "name": "python",
   "nbconvert_exporter": "python",
   "pygments_lexer": "ipython3",
   "version": "3.6.5"
  },
  "toc": {
   "base_numbering": 1,
   "nav_menu": {},
   "number_sections": true,
   "sideBar": true,
   "skip_h1_title": false,
   "title_cell": "Table of Contents",
   "title_sidebar": "Contents",
   "toc_cell": false,
   "toc_position": {},
   "toc_section_display": true,
   "toc_window_display": false
  },
  "varInspector": {
   "cols": {
    "lenName": 16,
    "lenType": 16,
    "lenVar": 40
   },
   "kernels_config": {
    "python": {
     "delete_cmd_postfix": "",
     "delete_cmd_prefix": "del ",
     "library": "var_list.py",
     "varRefreshCmd": "print(var_dic_list())"
    },
    "r": {
     "delete_cmd_postfix": ") ",
     "delete_cmd_prefix": "rm(",
     "library": "var_list.r",
     "varRefreshCmd": "cat(var_dic_list()) "
    }
   },
   "types_to_exclude": [
    "module",
    "function",
    "builtin_function_or_method",
    "instance",
    "_Feature"
   ],
   "window_display": false
  }
 },
 "nbformat": 4,
 "nbformat_minor": 2
}
