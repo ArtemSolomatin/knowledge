{
 "cells": [
  {
   "cell_type": "code",
   "execution_count": 1,
   "metadata": {},
   "outputs": [],
   "source": [
    "import pandas as pd\n",
    "import numpy as np\n",
    "\n",
    "from lightgbm import LGBMClassifier\n",
    "\n",
    "import pymorphy2\n",
    "from sklearn.preprocessing import LabelEncoder\n",
    "\n",
    "#metrics\n",
    "from sklearn.metrics import roc_auc_score\n",
    "\n",
    "#splitting\n",
    "from sklearn.model_selection import train_test_split, cross_val_score, StratifiedKFold"
   ]
  },
  {
   "cell_type": "code",
   "execution_count": 2,
   "metadata": {},
   "outputs": [],
   "source": [
    "train = pd.read_csv('input/train.csv')\n",
    "test = pd.read_csv('input/test.csv')\n",
    "\n",
    "sample = pd.read_csv('input/sample_submission.csv')"
   ]
  },
  {
   "cell_type": "markdown",
   "metadata": {},
   "source": [
    "## Features"
   ]
  },
  {
   "cell_type": "markdown",
   "metadata": {},
   "source": [
    "### First and last letter"
   ]
  },
  {
   "cell_type": "code",
   "execution_count": 3,
   "metadata": {},
   "outputs": [],
   "source": [
    "train['starts_from_upper'] = train['Word'].apply(lambda x: int(x.istitle()))\n",
    "train['is_upper'] = train['Word'].apply(lambda x: int(x.isupper()))\n",
    "\n",
    "test['starts_from_upper'] = test['Word'].apply(lambda x: int(x.istitle()))\n",
    "test['is_upper'] = test['Word'].apply(lambda x: int(x.isupper()))"
   ]
  },
  {
   "cell_type": "markdown",
   "metadata": {},
   "source": [
    "### pymorphy"
   ]
  },
  {
   "cell_type": "code",
   "execution_count": 4,
   "metadata": {},
   "outputs": [],
   "source": [
    "morph = pymorphy2.MorphAnalyzer()\n",
    "\n",
    "def name_score(word):\n",
    "    for p in morph.parse(word):\n",
    "        if 'Name' in p.tag:\n",
    "            return p.score\n",
    "    return 0\n",
    "\n",
    "def surn_score(word):\n",
    "    for p in morph.parse(word):\n",
    "        if 'Surn' in p.tag:\n",
    "            return p.score\n",
    "    return 0\n",
    "\n",
    "train['pymorphy_word_is_known'] = train['Word'].apply(morph.word_is_known).astype('int8')\n",
    "train['pymorphy_count_in_tag'] = train['Word'].apply(lambda x: len(morph.tag(x))).astype('int8')\n",
    "train['pymorphy_score'] = train['Word'].apply(lambda x: morph.parse(x)[0].score)\n",
    "train['pymorphy'] = train['Word'].apply(lambda x: morph.tag(x)[0])\n",
    "\n",
    "train['pymorphy_animacy'] = train['pymorphy'].apply(lambda x: x.animacy)\n",
    "train['pymorphy_POS'] = train['pymorphy'].apply(lambda x: x.POS)\n",
    "train['pymorphy_case'] = train['pymorphy'].apply(lambda x: x.case)\n",
    "train['pymorphy_number'] = train['pymorphy'].apply(lambda x: x.number)\n",
    "train['pymorphy_gender'] = train['pymorphy'].apply(lambda x: x.gender)\n",
    "\n",
    "train['pymorphy_name_score'] = train['Word'].apply(name_score)\n",
    "train['pymorphy_surn_score'] = train['Word'].apply(surn_score)\n",
    "\n",
    "columns_to_one_hot = ['pymorphy' , 'pymorphy_animacy', 'pymorphy_POS', 'pymorphy_case','pymorphy_number', 'pymorphy_gender']\n",
    "\n",
    "for col in columns_to_one_hot:\n",
    "    train[col] = LabelEncoder().fit_transform(list(train[col].fillna('nan')))"
   ]
  },
  {
   "cell_type": "code",
   "execution_count": 13,
   "metadata": {},
   "outputs": [],
   "source": [
    "morph = pymorphy2.MorphAnalyzer()\n",
    "\n",
    "def name_score(word):\n",
    "    for p in morph.parse(word):\n",
    "        if 'Name' in p.tag:\n",
    "            return p.score\n",
    "    return 0\n",
    "\n",
    "def surn_score(word):\n",
    "    for p in morph.parse(word):\n",
    "        if 'Surn' in p.tag:\n",
    "            return p.score\n",
    "    return 0\n",
    "\n",
    "test['pymorphy_word_is_known'] = test['Word'].apply(morph.word_is_known).astype('int8')\n",
    "test['pymorphy_count_in_tag'] = test['Word'].apply(lambda x: len(morph.tag(x))).astype('int8')\n",
    "test['pymorphy_score'] = test['Word'].apply(lambda x: morph.parse(x)[0].score)\n",
    "test['pymorphy'] = test['Word'].apply(lambda x: morph.tag(x)[0])\n",
    "\n",
    "test['pymorphy_animacy'] = test['pymorphy'].apply(lambda x: x.animacy)\n",
    "test['pymorphy_POS'] = test['pymorphy'].apply(lambda x: x.POS)\n",
    "test['pymorphy_case'] = test['pymorphy'].apply(lambda x: x.case)\n",
    "test['pymorphy_number'] = test['pymorphy'].apply(lambda x: x.number)\n",
    "test['pymorphy_gender'] = test['pymorphy'].apply(lambda x: x.gender)\n",
    "\n",
    "test['pymorphy_name_score'] = test['Word'].apply(name_score)\n",
    "test['pymorphy_surn_score'] = test['Word'].apply(surn_score)\n",
    "\n",
    "columns_to_one_hot = ['pymorphy' , 'pymorphy_animacy', 'pymorphy_POS', 'pymorphy_case','pymorphy_number', 'pymorphy_gender']\n",
    "\n",
    "for col in columns_to_one_hot:\n",
    "    test[col] = LabelEncoder().fit_transform(list(test[col].fillna('nan')))"
   ]
  },
  {
   "cell_type": "markdown",
   "metadata": {},
   "source": [
    "### Beginning and ending of the word"
   ]
  },
  {
   "cell_type": "code",
   "execution_count": 5,
   "metadata": {},
   "outputs": [],
   "source": [
    "for numberOfLast in [1, 2, 3, 4, 5]:\n",
    "    train[str(numberOfLast)] = train['Word'].apply(lambda x: x[-numberOfLast:].lower())\n",
    "    test[str(numberOfLast)] = test['Word'].apply(lambda x: x[-numberOfLast:].lower())\n",
    "    \n",
    "    tmp = train.groupby([str(numberOfLast)], as_index = False).count()\n",
    "    \n",
    "    train = pd.merge(train, tmp[[str(numberOfLast), 'Word']], on = [str(numberOfLast)], how = 'left', suffixes = ('', '_sur' + str(numberOfLast)))\n",
    "    test = pd.merge(test, tmp[[str(numberOfLast), 'Word']], on = [str(numberOfLast)], how = 'left', suffixes = ('', '_sur' + str(numberOfLast)))\n",
    "\n",
    "    train.rename(columns = {'Word_sur' +  str(numberOfLast): 'surname_ending' + str(numberOfLast)}, inplace = True)\n",
    "    test.rename(columns = {'Word_sur' +  str(numberOfLast): 'surname_ending' + str(numberOfLast)}, inplace = True)\n",
    "    \n",
    "    train.drop(str(numberOfLast), inplace = True, axis = 1)\n",
    "    test.drop(str(numberOfLast), inplace = True, axis = 1)"
   ]
  },
  {
   "cell_type": "code",
   "execution_count": 6,
   "metadata": {},
   "outputs": [],
   "source": [
    "for numberOfFirst in [1, 2, 3, 4, 5]:\n",
    "    train[str(numberOfFirst)] = train['Word'].apply(lambda x: x[:numberOfFirst].lower())\n",
    "    test[str(numberOfFirst)] = test['Word'].apply(lambda x: x[:numberOfFirst].lower())\n",
    "    \n",
    "    tmp = train.groupby([str(numberOfFirst)], as_index = False).count()\n",
    "    \n",
    "    train = pd.merge(train, tmp[[str(numberOfFirst), 'Word']], on = [str(numberOfFirst)], how = 'left', suffixes = ('', '_sur' + str(numberOfFirst)))\n",
    "    test = pd.merge(test, tmp[[str(numberOfFirst), 'Word']], on = [str(numberOfFirst)], how = 'left', suffixes = ('', '_sur' + str(numberOfFirst)))\n",
    "\n",
    "    train.rename(columns = {'Word_sur' +  str(numberOfFirst): 'surname_beginning' + str(numberOfFirst)}, inplace = True)\n",
    "    test.rename(columns = {'Word_sur' +  str(numberOfFirst): 'surname_beginning' + str(numberOfFirst)}, inplace = True)\n",
    "    \n",
    "    train.drop(str(numberOfFirst), inplace = True, axis = 1)\n",
    "    test.drop(str(numberOfFirst), inplace = True, axis = 1)"
   ]
  },
  {
   "cell_type": "code",
   "execution_count": 7,
   "metadata": {},
   "outputs": [],
   "source": [
    "train.fillna(0, inplace = True)\n",
    "test.fillna(0, inplace = True)"
   ]
  },
  {
   "cell_type": "markdown",
   "metadata": {},
   "source": [
    "### Vowels and consonants"
   ]
  },
  {
   "cell_type": "code",
   "execution_count": 8,
   "metadata": {},
   "outputs": [],
   "source": [
    "vowels = 'аеёиоуыэюя'\n",
    "consonants = 'бвгджзйклмнпрстфхцчшщъь'\n",
    "\n",
    "alphabet = set(vowels) | set(consonants)"
   ]
  },
  {
   "cell_type": "code",
   "execution_count": 9,
   "metadata": {},
   "outputs": [],
   "source": [
    "def vowels_count(x):\n",
    "    return len([letter for letter in x.lower() if letter in vowels])\n",
    "\n",
    "def consonant_count(x):\n",
    "    return len([letter for letter in x.lower() if letter in consonants])\n",
    "\n",
    "\n",
    "train['vowels_num'] = train['Word'].apply(vowels_count)\n",
    "test['vowels_num'] = test['Word'].apply(vowels_count)\n",
    "\n",
    "train['consonants_num'] = train['Word'].apply(consonant_count)\n",
    "test['consonants_num'] = test['Word'].apply(consonant_count)\n",
    "\n",
    "train['lenght'] = train['Word'].apply(len)\n",
    "test['lenght'] = test['Word'].apply(len)"
   ]
  },
  {
   "cell_type": "markdown",
   "metadata": {},
   "source": [
    "## Validation"
   ]
  },
  {
   "cell_type": "code",
   "execution_count": 19,
   "metadata": {},
   "outputs": [],
   "source": [
    "y = 'Label'\n",
    "col = train.columns.drop(['Label', 'Word'])\n"
   ]
  },
  {
   "cell_type": "code",
   "execution_count": 20,
   "metadata": {},
   "outputs": [
    {
     "data": {
      "text/plain": [
       "(0.9529779578609378, 0.0016771281917307668)"
      ]
     },
     "execution_count": 20,
     "metadata": {},
     "output_type": "execute_result"
    }
   ],
   "source": [
    "lightGBM = LGBMClassifier()\n",
    "cv = StratifiedKFold(4 ,shuffle=True, random_state=19)\n",
    "lightGBM_score = cross_val_score(lightGBM, train[col], train[y], cv = cv, scoring = 'roc_auc')\n",
    "lightGBM_score.mean(), lightGBM_score.std()"
   ]
  },
  {
   "cell_type": "markdown",
   "metadata": {},
   "source": [
    "## Submit"
   ]
  },
  {
   "cell_type": "code",
   "execution_count": 21,
   "metadata": {},
   "outputs": [],
   "source": [
    "lightGBM = LGBMClassifier()\n",
    "lightGBM.fit(train[col], train[y])\n",
    "prediction = lightGBM.predict_proba(test[col])[:,1]\n",
    "sample['Prediction'] = prediction\n",
    "sample.to_csv('output/baseline.csv', index = False)"
   ]
  },
  {
   "cell_type": "code",
   "execution_count": null,
   "metadata": {},
   "outputs": [],
   "source": []
  }
 ],
 "metadata": {
  "kernelspec": {
   "display_name": "Python 3",
   "language": "python",
   "name": "python3"
  },
  "language_info": {
   "codemirror_mode": {
    "name": "ipython",
    "version": 3
   },
   "file_extension": ".py",
   "mimetype": "text/x-python",
   "name": "python",
   "nbconvert_exporter": "python",
   "pygments_lexer": "ipython3",
   "version": "3.6.5"
  }
 },
 "nbformat": 4,
 "nbformat_minor": 2
}
